{
 "cells": [
  {
   "cell_type": "code",
   "execution_count": 2,
   "metadata": {},
   "outputs": [],
   "source": [
    "from random import randint\n",
    "import numpy as np\n",
    "from math import gcd as bltin_gcd"
   ]
  },
  {
   "cell_type": "code",
   "execution_count": 3,
   "metadata": {},
   "outputs": [],
   "source": [
    "def mod_2pow(a,b,n):\n",
    "#     print(b)\n",
    "    if b == 1:\n",
    "        return(a%n)\n",
    "    return (mod_2pow(a,b//2,n)**2)%n"
   ]
  },
  {
   "cell_type": "code",
   "execution_count": 4,
   "metadata": {},
   "outputs": [],
   "source": [
    "def a_bmodn(a,b,n):\n",
    "    b = int(str(bin(b))[2:])\n",
    "    mult = 1\n",
    "    for i in range(len(str(b))-1,-1,-1):\n",
    "        if int(str(b)[-i-1]) != 0:\n",
    "#             print((mod_2pow(a,(2**i)*int(str(b)[-i-1]),n)))\n",
    "            mult = mult * (mod_2pow(a,(2**i),n))\n",
    "    return mult%n"
   ]
  },
  {
   "cell_type": "code",
   "execution_count": 5,
   "metadata": {},
   "outputs": [],
   "source": [
    "def modinverse(r1,r2):\n",
    "    step = 1\n",
    "    t1, t2 = 0,1\n",
    "    r,t,q = 1,0,0\n",
    "    modboss = r1\n",
    "    while not r == 0:\n",
    "        q = r1//r2\n",
    "        r = r1%r2\n",
    "        t = t1 - q*t2\n",
    "#         print(step,q,r1,r2,r,t1,t2,t)\n",
    "        if r != 0:\n",
    "            r1 = r2\n",
    "            r2 = r\n",
    "            t1 = t2\n",
    "            t2 = t\n",
    "            step = step + 1\n",
    "    if r2 == 1:    \n",
    "        if t2 < 0 :\n",
    "            return modboss + t2\n",
    "        else:\n",
    "            return t2\n",
    "    else:\n",
    "        return(\"no inverse found\")"
   ]
  },
  {
   "cell_type": "code",
   "execution_count": 6,
   "metadata": {},
   "outputs": [
    {
     "data": {
      "text/plain": [
       "55"
      ]
     },
     "execution_count": 6,
     "metadata": {},
     "output_type": "execute_result"
    }
   ],
   "source": [
    "modinverse(72,55)"
   ]
  },
  {
   "cell_type": "code",
   "execution_count": 7,
   "metadata": {},
   "outputs": [],
   "source": [
    "def factors(a):\n",
    "    factora = []\n",
    "    factora.append(1)\n",
    "    for i in range(2,int(a**0.5)+1):\n",
    "        if a%i == 0:\n",
    "            factora.append(i)\n",
    "            if not i in factora:\n",
    "                factora.append(a//i)\n",
    "    factora.append(a)\n",
    "    return factora"
   ]
  },
  {
   "cell_type": "code",
   "execution_count": 8,
   "metadata": {},
   "outputs": [],
   "source": [
    "def prime(n):\n",
    "    if factors(n) == [1,n]:\n",
    "        return True\n",
    "    else:\n",
    "        return False"
   ]
  },
  {
   "cell_type": "code",
   "execution_count": 9,
   "metadata": {},
   "outputs": [],
   "source": [
    "def gcd(a, b):\n",
    "    \"\"\"Calculate the Greatest Common Divisor of a and b.\n",
    "\n",
    "    Unless b==0, the result will have the same sign as b (so that when\n",
    "    b is divided by it, the result comes out positive).\n",
    "    \"\"\"\n",
    "    step = 1\n",
    "    while b:\n",
    "        \n",
    "        a, b = b, a%b\n",
    "        print(a,b,step)\n",
    "        step =step + 1\n",
    "    return a"
   ]
  },
  {
   "cell_type": "code",
   "execution_count": 10,
   "metadata": {},
   "outputs": [
    {
     "name": "stdout",
     "output_type": "stream",
     "text": [
      "300 200 1\n",
      "200 100 2\n",
      "100 0 3\n"
     ]
    },
    {
     "data": {
      "text/plain": [
       "100"
      ]
     },
     "execution_count": 10,
     "metadata": {},
     "output_type": "execute_result"
    }
   ],
   "source": [
    "gcd(500,300)"
   ]
  },
  {
   "cell_type": "code",
   "execution_count": 11,
   "metadata": {},
   "outputs": [],
   "source": [
    "def prime_factors(n):\n",
    "    prime_factors = []\n",
    "    for i in factors(n):\n",
    "        if(prime(i)):\n",
    "            prime_factors.append(i)\n",
    "    return prime_factors"
   ]
  },
  {
   "cell_type": "code",
   "execution_count": 12,
   "metadata": {},
   "outputs": [],
   "source": [
    "def coprime(a, b):\n",
    "    return bltin_gcd(a, b) == 1"
   ]
  },
  {
   "cell_type": "code",
   "execution_count": 13,
   "metadata": {},
   "outputs": [],
   "source": [
    "def rsa_prep(p,q):\n",
    "    n = p*q\n",
    "    totient = (p-1)*(q-1)\n",
    "    e = totient\n",
    "    while not coprime(e, totient):\n",
    "        e = randint(2,totient)\n",
    "    d = modinverse(totient,e)\n",
    "#     print(p,q,n,totient,e,d)\n",
    "    return p,q,n,totient,e,d"
   ]
  },
  {
   "cell_type": "code",
   "execution_count": 14,
   "metadata": {},
   "outputs": [],
   "source": [
    "def rsa(m,k,n):\n",
    "    if (m > n):\n",
    "        print(\"ddd\")\n",
    "    else:\n",
    "        return a_bmodn(m,k,n)"
   ]
  },
  {
   "cell_type": "code",
   "execution_count": 15,
   "metadata": {},
   "outputs": [],
   "source": [
    "def rsarun(n1,n2):\n",
    "    p,q,n,totient,encrypk,decrypk = rsa_prep(n1,n2)\n",
    "    message =  randint(2,n)\n",
    "    print(\"The original mesage is : \", message )\n",
    "    print(\"enrcpy key :\" ,encrypk)\n",
    "    encrpy_m = rsa(message, encrypk, n)\n",
    "    print(\"The encrpted mesage is : \" , encrpy_m)\n",
    "    print(\"decrpy key :\" ,decrypk)\n",
    "    de_m =  rsa(encrpy_m, decrypk, n)\n",
    "    print(\"The decrpyted mesage is : \" , de_m)\n",
    "    if (de_m == message):\n",
    "        print(\"rsa was success. goodbye, have a nice day.\")"
   ]
  },
  {
   "cell_type": "code",
   "execution_count": 16,
   "metadata": {
    "scrolled": true
   },
   "outputs": [
    {
     "name": "stdout",
     "output_type": "stream",
     "text": [
      "The original mesage is :  40499104865929027328585641710559038959190307601076887619626176919145809589291888126752419299681342953068845424402629873467467420267456494164631662263958026468106194859525340854955966107239033390401171822452461663377068703905935022054120647498651974478115637316991463233026832348482929316088358116057575066306\n",
      "enrcpy key : 78248970009397600258983538191029120368511555581316452801043650250492294193162626093129108043531326001357157687616582727093433116256899990096194769497192515910366206428961916801759137149526643421099941411819364492167109365745165441157247476732934258628567318116520215310558417455385881174762544157065024891029\n",
      "The encrpted mesage is :  102198610617036419058738981927031502517599762676563758607425937461406963839389559595932574892456661767589011759554672488817956187012518989076443865985807158400360305192928169560943014535404591216954779172490375867891216979324174594073389449491867484812126802555426902494790595707351687558292184345809532177690\n",
      "decrpy key : 137989593268441849032014182677551238257997046653290465889198990120768471802622380480588449433650123904764478280543920654960362262347451889503904871955895794537654888191032864116368209079045042797320021625085965944888024746202768669330175004999838620928945254444091074775241379262574846182689666323692923019709\n",
      "The decrpyted mesage is :  40499104865929027328585641710559038959190307601076887619626176919145809589291888126752419299681342953068845424402629873467467420267456494164631662263958026468106194859525340854955966107239033390401171822452461663377068703905935022054120647498651974478115637316991463233026832348482929316088358116057575066306\n",
      "rsa was success. goodbye, have a nice day.\n"
     ]
    }
   ],
   "source": [
    "rsarun(12131072439211271897323671531612440428472427633701410925634549312301964373042085619324197365322416866541017057361365214171711713797974299334871062829803541,12027524255478748885956220793734512128733387803682075433653899983955179850988797899869146900809131611153346817050832096022160146366346391812470987105415233)"
   ]
  },
  {
   "cell_type": "code",
   "execution_count": 17,
   "metadata": {},
   "outputs": [],
   "source": [
    "def prime_factors(n):\n",
    "    k = 2\n",
    "    fact = []\n",
    "    while n != 1:\n",
    "        if n%k == 0:\n",
    "            n = n/k\n",
    "            print(n)\n",
    "            fact.append(k)\n",
    "        else:\n",
    "            k = k + 1\n",
    "    return fact"
   ]
  },
  {
   "cell_type": "code",
   "execution_count": 18,
   "metadata": {},
   "outputs": [
    {
     "name": "stdout",
     "output_type": "stream",
     "text": [
      "1112525405655300.0\n",
      "556262702827650.0\n",
      "278131351413825.0\n",
      "92710450471275.0\n",
      "30903483490425.0\n",
      "10301161163475.0\n",
      "3433720387825.0\n",
      "686744077565.0\n",
      "137348815513.0\n",
      "19621259359.0\n",
      "1509327643.0\n",
      "88783979.0\n",
      "5222587.0\n",
      "307211.0\n",
      "16169.0\n",
      "851.0\n",
      "37.0\n",
      "1.0\n"
     ]
    },
    {
     "data": {
      "text/plain": [
       "[2, 2, 2, 3, 3, 3, 3, 5, 5, 7, 13, 17, 17, 17, 19, 19, 23, 37]"
      ]
     },
     "execution_count": 18,
     "metadata": {},
     "output_type": "execute_result"
    }
   ],
   "source": [
    "prime_factors(468027*3*17*25*76*34*37*39)"
   ]
  },
  {
   "cell_type": "code",
   "execution_count": 23,
   "metadata": {},
   "outputs": [
    {
     "data": {
      "text/plain": [
       "'1101111'"
      ]
     },
     "execution_count": 23,
     "metadata": {},
     "output_type": "execute_result"
    }
   ],
   "source": [
    "bin(111)[2:]"
   ]
  },
  {
   "cell_type": "code",
   "execution_count": 22,
   "metadata": {},
   "outputs": [
    {
     "data": {
      "text/plain": [
       "'100000'"
      ]
     },
     "execution_count": 22,
     "metadata": {},
     "output_type": "execute_result"
    }
   ],
   "source": [
    "bin(32)[2:]"
   ]
  },
  {
   "cell_type": "code",
   "execution_count": 24,
   "metadata": {},
   "outputs": [
    {
     "data": {
      "text/plain": [
       "'110111'"
      ]
     },
     "execution_count": 24,
     "metadata": {},
     "output_type": "execute_result"
    }
   ],
   "source": [
    "bin(55)[2:]"
   ]
  }
 ],
 "metadata": {
  "kernelspec": {
   "display_name": "Python 3",
   "language": "python",
   "name": "python3"
  },
  "language_info": {
   "codemirror_mode": {
    "name": "ipython",
    "version": 3
   },
   "file_extension": ".py",
   "mimetype": "text/x-python",
   "name": "python",
   "nbconvert_exporter": "python",
   "pygments_lexer": "ipython3",
   "version": "3.6.6"
  }
 },
 "nbformat": 4,
 "nbformat_minor": 2
}
