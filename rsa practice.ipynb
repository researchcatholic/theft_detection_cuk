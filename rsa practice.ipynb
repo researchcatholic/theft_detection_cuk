{
 "cells": [
  {
   "cell_type": "code",
   "execution_count": 166,
   "metadata": {},
   "outputs": [],
   "source": [
    "from random import randint"
   ]
  },
  {
   "cell_type": "code",
   "execution_count": 170,
   "metadata": {},
   "outputs": [],
   "source": [
    "def modinverse(r1,r2):\n",
    "    step = 1\n",
    "    t1, t2 = 0,1\n",
    "    r,t,q = 1,0,0\n",
    "    modboss = r1\n",
    "    while not r == 0:\n",
    "        q = r1//r2\n",
    "        r = r1%r2\n",
    "        t = t1 - q*t2\n",
    "#         print(step,q,r1,r2,r,t1,t2,t)\n",
    "        if r != 0:\n",
    "            r1 = r2\n",
    "            r2 = r\n",
    "            t1 = t2\n",
    "            t2 = t\n",
    "            step = step + 1\n",
    "    if r2 == 1:    \n",
    "        if t2 < 0 :\n",
    "            return modboss + t2\n",
    "        else:\n",
    "            return t2\n",
    "    else:\n",
    "        return(\"no inverse found\")"
   ]
  },
  {
   "cell_type": "code",
   "execution_count": 131,
   "metadata": {},
   "outputs": [],
   "source": [
    "def factors(a):\n",
    "    factora = []\n",
    "    for i in range(2,a):\n",
    "        if a%i == 0:\n",
    "            factora.append(i)\n",
    "    return factora"
   ]
  },
  {
   "cell_type": "code",
   "execution_count": 162,
   "metadata": {},
   "outputs": [],
   "source": [
    "def coprime(a,b):\n",
    "    x,y = factors(a), factors(b)\n",
    "    if not set(x) & set(y):\n",
    "        return True\n",
    "    else:\n",
    "        return False"
   ]
  },
  {
   "cell_type": "code",
   "execution_count": 301,
   "metadata": {},
   "outputs": [],
   "source": [
    "def rsa_prep(p,q):\n",
    "    n = p*q\n",
    "    totient = (p-1)*(q-1)\n",
    "    e = totient\n",
    "    while not coprime(e, totient):\n",
    "        e = randint(2,totient)\n",
    "    d = modinverse(totient,e)\n",
    "#     print(p,q,n,totient,e,d)\n",
    "    return p,q,n,totient,e,d"
   ]
  },
  {
   "cell_type": "code",
   "execution_count": 299,
   "metadata": {},
   "outputs": [],
   "source": [
    "def rsa(m,k,n):\n",
    "    if (m > n):\n",
    "        print(\"Fuck u, message bigger than n, bitch\")\n",
    "    else:\n",
    "        return (m**k)%n"
   ]
  },
  {
   "cell_type": "code",
   "execution_count": 317,
   "metadata": {},
   "outputs": [],
   "source": [
    "def rsarun(n1,n2):\n",
    "    p,q,n,totient,encrypk,decrypk = rsa_prep(n1,n2)\n",
    "    message =  randint(2,n)\n",
    "    print(\"The original mesage is : \", message )\n",
    "    encrpy_m = rsa(message, encrypk, n)\n",
    "    print(\"The encrpted mesage is : \" , encrpy_m)\n",
    "    de_m =  rsa(encrpy_m, decrypk, n)\n",
    "    print(\"The decrpyted mesage is : \" , de_m)\n",
    "    if (de_m == message):\n",
    "        print(\"rsa was success. goodbye, have a nice day.\")"
   ]
  },
  {
   "cell_type": "code",
   "execution_count": 334,
   "metadata": {},
   "outputs": [
    {
     "name": "stdout",
     "output_type": "stream",
     "text": [
      "The original mesage is :  14154\n",
      "The encrpted mesage is :  6292\n",
      "The decrpyted mesage is :  14154\n",
      "rsa was success. goodbye, have a nice day.\n"
     ]
    }
   ],
   "source": [
    "rsarun(197,199)"
   ]
  }
 ],
 "metadata": {
  "kernelspec": {
   "display_name": "Python 3",
   "language": "python",
   "name": "python3"
  },
  "language_info": {
   "codemirror_mode": {
    "name": "ipython",
    "version": 3
   },
   "file_extension": ".py",
   "mimetype": "text/x-python",
   "name": "python",
   "nbconvert_exporter": "python",
   "pygments_lexer": "ipython3",
   "version": "3.6.5"
  }
 },
 "nbformat": 4,
 "nbformat_minor": 2
}
