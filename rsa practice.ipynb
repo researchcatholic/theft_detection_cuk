{
 "cells": [
  {
   "cell_type": "code",
   "execution_count": 1,
   "metadata": {},
   "outputs": [],
   "source": [
    "from random import randint\n",
    "import numpy as np\n",
    "from math import gcd as bltin_gcd"
   ]
  },
  {
   "cell_type": "code",
   "execution_count": 2,
   "metadata": {},
   "outputs": [],
   "source": [
    "def mod_2pow(a,b,n):\n",
    "#     print(b)\n",
    "    if b == 1:\n",
    "        return(a%n)\n",
    "    return (mod_2pow(a,b//2,n)**2)%n"
   ]
  },
  {
   "cell_type": "code",
   "execution_count": 3,
   "metadata": {},
   "outputs": [],
   "source": [
    "def a_bmodn(a,b,n):\n",
    "    b = int(str(bin(b))[2:])\n",
    "    mult = 1\n",
    "    for i in range(len(str(b))-1,-1,-1):\n",
    "        if int(str(b)[-i-1]) != 0:\n",
    "#             print((mod_2pow(a,(2**i)*int(str(b)[-i-1]),n)))\n",
    "            mult = mult * (mod_2pow(a,(2**i),n))\n",
    "    return mult%n"
   ]
  },
  {
   "cell_type": "code",
   "execution_count": 4,
   "metadata": {},
   "outputs": [],
   "source": [
    "def modinverse(r1,r2):\n",
    "    step = 1\n",
    "    t1, t2 = 0,1\n",
    "    r,t,q = 1,0,0\n",
    "    modboss = r1\n",
    "    while not r == 0:\n",
    "        q = r1//r2\n",
    "        r = r1%r2\n",
    "        t = t1 - q*t2\n",
    "#         print(step,q,r1,r2,r,t1,t2,t)\n",
    "        if r != 0:\n",
    "            r1 = r2\n",
    "            r2 = r\n",
    "            t1 = t2\n",
    "            t2 = t\n",
    "            step = step + 1\n",
    "    if r2 == 1:    \n",
    "        if t2 < 0 :\n",
    "            return modboss + t2\n",
    "        else:\n",
    "            return t2\n",
    "    else:\n",
    "        return(\"no inverse found\")"
   ]
  },
  {
   "cell_type": "code",
   "execution_count": 5,
   "metadata": {},
   "outputs": [
    {
     "data": {
      "text/plain": [
       "55"
      ]
     },
     "execution_count": 5,
     "metadata": {},
     "output_type": "execute_result"
    }
   ],
   "source": [
    "modinverse(72,55)"
   ]
  },
  {
   "cell_type": "code",
   "execution_count": 6,
   "metadata": {},
   "outputs": [],
   "source": [
    "def factors(a):\n",
    "    factora = []\n",
    "    factora.append(1)\n",
    "    for i in range(2,int(a**0.5)+1):\n",
    "        if a%i == 0:\n",
    "            factora.append(i)\n",
    "            if not i in factora:\n",
    "                factora.append(a//i)\n",
    "    factora.append(a)\n",
    "    return factora"
   ]
  },
  {
   "cell_type": "code",
   "execution_count": 7,
   "metadata": {},
   "outputs": [],
   "source": [
    "def prime(n):\n",
    "    if factors(n) == [1,n]:\n",
    "        return True\n",
    "    else:\n",
    "        return False"
   ]
  },
  {
   "cell_type": "code",
   "execution_count": 8,
   "metadata": {},
   "outputs": [],
   "source": [
    "def gcd(a, b):\n",
    "    \"\"\"Calculate the Greatest Common Divisor of a and b.\n",
    "\n",
    "    Unless b==0, the result will have the same sign as b (so that when\n",
    "    b is divided by it, the result comes out positive).\n",
    "    \"\"\"\n",
    "    step = 1\n",
    "    while b:\n",
    "        \n",
    "        a, b = b, a%b\n",
    "        print(a,b,step)\n",
    "        step =step + 1\n",
    "    return a"
   ]
  },
  {
   "cell_type": "code",
   "execution_count": 9,
   "metadata": {},
   "outputs": [
    {
     "name": "stdout",
     "output_type": "stream",
     "text": [
      "300 200 1\n",
      "200 100 2\n",
      "100 0 3\n"
     ]
    },
    {
     "data": {
      "text/plain": [
       "100"
      ]
     },
     "execution_count": 9,
     "metadata": {},
     "output_type": "execute_result"
    }
   ],
   "source": [
    "gcd(500,300)"
   ]
  },
  {
   "cell_type": "code",
   "execution_count": 10,
   "metadata": {},
   "outputs": [],
   "source": [
    "def prime_factors(n):\n",
    "    prime_factors = []\n",
    "    for i in factors(n):\n",
    "        if(prime(i)):\n",
    "            prime_factors.append(i)\n",
    "    return prime_factors"
   ]
  },
  {
   "cell_type": "code",
   "execution_count": 11,
   "metadata": {},
   "outputs": [],
   "source": [
    "def coprime(a, b):\n",
    "    return bltin_gcd(a, b) == 1"
   ]
  },
  {
   "cell_type": "code",
   "execution_count": 12,
   "metadata": {},
   "outputs": [],
   "source": [
    "def rsa_prep(p,q):\n",
    "    n = p*q\n",
    "    totient = (p-1)*(q-1)\n",
    "    e = totient\n",
    "    while not coprime(e, totient):\n",
    "        e = randint(2,totient)\n",
    "    d = modinverse(totient,e)\n",
    "#     print(p,q,n,totient,e,d)\n",
    "    return p,q,n,totient,e,d"
   ]
  },
  {
   "cell_type": "code",
   "execution_count": 13,
   "metadata": {},
   "outputs": [],
   "source": [
    "def rsa(m,k,n):\n",
    "    if (m > n):\n",
    "        print(\"ddd\")\n",
    "    else:\n",
    "        return a_bmodn(m,k,n)"
   ]
  },
  {
   "cell_type": "code",
   "execution_count": 14,
   "metadata": {},
   "outputs": [],
   "source": [
    "def rsarun(n1,n2):\n",
    "    p,q,n,totient,encrypk,decrypk = rsa_prep(n1,n2)\n",
    "    message =  randint(2,n)\n",
    "    print(\"The original mesage is : \", message )\n",
    "    print(\"enrcpy key :\" ,encrypk)\n",
    "    encrpy_m = rsa(message, encrypk, n)\n",
    "    print(\"The encrpted mesage is : \" , encrpy_m)\n",
    "    print(\"decrpy key :\" ,decrypk)\n",
    "    de_m =  rsa(encrpy_m, decrypk, n)\n",
    "    print(\"The decrpyted mesage is : \" , de_m)\n",
    "    if (de_m == message):\n",
    "        print(\"rsa was success. goodbye, have a nice day.\")"
   ]
  },
  {
   "cell_type": "code",
   "execution_count": 15,
   "metadata": {
    "scrolled": true
   },
   "outputs": [
    {
     "name": "stdout",
     "output_type": "stream",
     "text": [
      "The original mesage is :  114225483711836884918041692959925441940788003048647353497522021382536057135358315286563533334154569427307517921265596152530030997547760125387701769030995718440247387174333771549702629442330088197407145388784755049745985194983473815601827039243249615163743809347507747210789551099239674295478034710783790867409\n",
      "enrcpy key : 67993999230486443379861003631583844020438712529483110095042968852234809411432609713719396784609656908135976264009404239818254397466846770135920881949489041608277340151045363376105256647046139025067244953691669719243041189844889466276647322772061101962156442993983930955000356751152213998287496654489756107287\n",
      "The encrpted mesage is :  53046769560792782766550944512717717364888911238775350905872302916524498860001923315193746400099594968220686510066655790787767311492308674323997641590956753602720467545139259304669457634664578027840238151526152562546786339003297352012953096318992079666378210270732350131810860539988381116136359005346211698784\n",
      "decrpy key : 111400297766450695370117116940424466201150395297355741722645446289845907078380417086575874550885119839817188171989374187835888284770458740128749281597602017711632813627950217117490771229113372302663795916796042897452704167408261881592410084048481540077001761127900606155087526362652461838109842021993168797863\n",
      "The decrpyted mesage is :  114225483711836884918041692959925441940788003048647353497522021382536057135358315286563533334154569427307517921265596152530030997547760125387701769030995718440247387174333771549702629442330088197407145388784755049745985194983473815601827039243249615163743809347507747210789551099239674295478034710783790867409\n",
      "rsa was success. goodbye, have a nice day.\n"
     ]
    }
   ],
   "source": [
    "rsarun(12131072439211271897323671531612440428472427633701410925634549312301964373042085619324197365322416866541017057361365214171711713797974299334871062829803541,12027524255478748885956220793734512128733387803682075433653899983955179850988797899869146900809131611153346817050832096022160146366346391812470987105415233)"
   ]
  },
  {
   "cell_type": "code",
   "execution_count": 20,
   "metadata": {},
   "outputs": [],
   "source": [
    "def prime_factors(n):\n",
    "    k = 2\n",
    "    fact = []\n",
    "    while n != 1:\n",
    "        if n%k == 0:\n",
    "            n = n/k\n",
    "            print(n)\n",
    "            fact.append(k)\n",
    "        else:\n",
    "            k = k + 1\n",
    "    return fact"
   ]
  },
  {
   "cell_type": "code",
   "execution_count": 21,
   "metadata": {},
   "outputs": [
    {
     "name": "stdout",
     "output_type": "stream",
     "text": [
      "1112525405655300.0\n",
      "556262702827650.0\n",
      "278131351413825.0\n",
      "92710450471275.0\n",
      "30903483490425.0\n",
      "10301161163475.0\n",
      "3433720387825.0\n",
      "686744077565.0\n",
      "137348815513.0\n",
      "19621259359.0\n",
      "1509327643.0\n",
      "88783979.0\n",
      "5222587.0\n",
      "307211.0\n",
      "16169.0\n",
      "851.0\n",
      "37.0\n",
      "1.0\n"
     ]
    },
    {
     "data": {
      "text/plain": [
       "[2, 2, 2, 3, 3, 3, 3, 5, 5, 7, 13, 17, 17, 17, 19, 19, 23, 37]"
      ]
     },
     "execution_count": 21,
     "metadata": {},
     "output_type": "execute_result"
    }
   ],
   "source": [
    "prime_factors(468027*3*17*25*76*34*37*39)"
   ]
  }
 ],
 "metadata": {
  "kernelspec": {
   "display_name": "Python 3",
   "language": "python",
   "name": "python3"
  },
  "language_info": {
   "codemirror_mode": {
    "name": "ipython",
    "version": 3
   },
   "file_extension": ".py",
   "mimetype": "text/x-python",
   "name": "python",
   "nbconvert_exporter": "python",
   "pygments_lexer": "ipython3",
   "version": "3.6.5"
  }
 },
 "nbformat": 4,
 "nbformat_minor": 2
}
