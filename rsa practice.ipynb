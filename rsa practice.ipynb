{
 "cells": [
  {
   "cell_type": "code",
   "execution_count": 14,
   "metadata": {},
   "outputs": [],
   "source": [
    "from random import randint\n",
    "import numpy as np\n",
    "from math import gcd as bltin_gcd"
   ]
  },
  {
   "cell_type": "code",
   "execution_count": 2,
   "metadata": {},
   "outputs": [],
   "source": [
    "def mod_2pow(a,b,n):\n",
    "#     print(b)\n",
    "    if b == 1:\n",
    "        return(a%n)\n",
    "    return (mod_2pow(a,b//2,n)**2)%n"
   ]
  },
  {
   "cell_type": "code",
   "execution_count": 3,
   "metadata": {},
   "outputs": [],
   "source": [
    "def a_bmodn(a,b,n):\n",
    "    b = int(str(bin(b))[2:])\n",
    "    mult = 1\n",
    "    for i in range(len(str(b))-1,-1,-1):\n",
    "        if int(str(b)[-i-1]) != 0:\n",
    "#             print((mod_2pow(a,(2**i)*int(str(b)[-i-1]),n)))\n",
    "            mult = mult * (mod_2pow(a,(2**i),n))\n",
    "    return mult%n"
   ]
  },
  {
   "cell_type": "code",
   "execution_count": 4,
   "metadata": {},
   "outputs": [],
   "source": [
    "def modinverse(r1,r2):\n",
    "    step = 1\n",
    "    t1, t2 = 0,1\n",
    "    r,t,q = 1,0,0\n",
    "    modboss = r1\n",
    "    while not r == 0:\n",
    "        q = r1//r2\n",
    "        r = r1%r2\n",
    "        t = t1 - q*t2\n",
    "#         print(step,q,r1,r2,r,t1,t2,t)\n",
    "        if r != 0:\n",
    "            r1 = r2\n",
    "            r2 = r\n",
    "            t1 = t2\n",
    "            t2 = t\n",
    "            step = step + 1\n",
    "    if r2 == 1:    \n",
    "        if t2 < 0 :\n",
    "            return modboss + t2\n",
    "        else:\n",
    "            return t2\n",
    "    else:\n",
    "        return(\"no inverse found\")"
   ]
  },
  {
   "cell_type": "code",
   "execution_count": 5,
   "metadata": {},
   "outputs": [],
   "source": [
    "def factors(a):\n",
    "    factora = []\n",
    "    factora.append(1)\n",
    "    for i in range(2,int(a**0.5)+1):\n",
    "        if a%i == 0:\n",
    "            factora.append(i)\n",
    "            if not i in factora:\n",
    "                factora.append(a//i)\n",
    "    factora.append(a)\n",
    "    return factora"
   ]
  },
  {
   "cell_type": "code",
   "execution_count": 6,
   "metadata": {},
   "outputs": [],
   "source": [
    "def prime(n):\n",
    "    if factors(n) == [1,n]:\n",
    "        return True\n",
    "    else:\n",
    "        return False"
   ]
  },
  {
   "cell_type": "code",
   "execution_count": 46,
   "metadata": {},
   "outputs": [],
   "source": [
    "def gcd(a, b):\n",
    "    \"\"\"Calculate the Greatest Common Divisor of a and b.\n",
    "\n",
    "    Unless b==0, the result will have the same sign as b (so that when\n",
    "    b is divided by it, the result comes out positive).\n",
    "    \"\"\"\n",
    "    step = 1\n",
    "    while b:\n",
    "        \n",
    "        a, b = b, a%b\n",
    "        print(a,b,step)\n",
    "        step =step + 1\n",
    "    return a"
   ]
  },
  {
   "cell_type": "code",
   "execution_count": 95,
   "metadata": {},
   "outputs": [
    {
     "name": "stdout",
     "output_type": "stream",
     "text": [
      "300 200 1\n",
      "200 100 2\n",
      "100 0 3\n"
     ]
    },
    {
     "data": {
      "text/plain": [
       "100"
      ]
     },
     "execution_count": 95,
     "metadata": {},
     "output_type": "execute_result"
    }
   ],
   "source": [
    "gcd(500,300)"
   ]
  },
  {
   "cell_type": "code",
   "execution_count": 7,
   "metadata": {},
   "outputs": [],
   "source": [
    "def prime_factors(n):\n",
    "    prime_factors = []\n",
    "    for i in factors(n):\n",
    "        if(prime(i)):\n",
    "            prime_factors.append(i)\n",
    "    return prime_factors"
   ]
  },
  {
   "cell_type": "code",
   "execution_count": 13,
   "metadata": {},
   "outputs": [],
   "source": [
    "def coprime(a, b):\n",
    "    return bltin_gcd(a, b) == 1"
   ]
  },
  {
   "cell_type": "code",
   "execution_count": 9,
   "metadata": {},
   "outputs": [],
   "source": [
    "def rsa_prep(p,q):\n",
    "    n = p*q\n",
    "    totient = (p-1)*(q-1)\n",
    "    e = totient\n",
    "    while not coprime(e, totient):\n",
    "        e = randint(2,totient)\n",
    "    d = modinverse(totient,e)\n",
    "#     print(p,q,n,totient,e,d)\n",
    "    return p,q,n,totient,e,d"
   ]
  },
  {
   "cell_type": "code",
   "execution_count": 12,
   "metadata": {},
   "outputs": [],
   "source": [
    "def rsa(m,k,n):\n",
    "    if (m > n):\n",
    "        print(\"ddd\")\n",
    "    else:\n",
    "        return a_bmodn(m,k,n)"
   ]
  },
  {
   "cell_type": "code",
   "execution_count": 11,
   "metadata": {},
   "outputs": [],
   "source": [
    "def rsarun(n1,n2):\n",
    "    p,q,n,totient,encrypk,decrypk = rsa_prep(n1,n2)\n",
    "    message =  randint(2,n)\n",
    "    print(\"The original mesage is : \", message )\n",
    "    print(\"enrcpy key :\" ,encrypk)\n",
    "    encrpy_m = rsa(message, encrypk, n)\n",
    "    print(\"The encrpted mesage is : \" , encrpy_m)\n",
    "    print(\"decrpy key :\" ,decrypk)\n",
    "    de_m =  rsa(encrpy_m, decrypk, n)\n",
    "    print(\"The decrpyted mesage is : \" , de_m)\n",
    "    if (de_m == message):\n",
    "        print(\"rsa was success. goodbye, have a nice day.\")"
   ]
  },
  {
   "cell_type": "code",
   "execution_count": 89,
   "metadata": {},
   "outputs": [
    {
     "name": "stdout",
     "output_type": "stream",
     "text": [
      "The original mesage is :  34995326944081578444654678232105591676121755881634236008797679735472795706808157331567980403934987009436087607335272588829910997633963946211528536360059040115175152722180279803595556832390755427695306521069682182176526476810968834879017292567458214695362398547076963443526908713227132975261336643171928846819\n",
      "enrcpy key : 2505856356671422754557634709879018684436840537058174508506746008053645230043299967989250000983245549577361569863321625164567359780452281856325525003227398363559293531720130354731704904155878457354464211655954703657267635007832109919834404715097140999431789494097445310554991303046008825965777553683582444553\n",
      "The encrpted mesage is :  6140937078867162579871536622627134255455769320006214395529053478167580540544694599038824982496862999714234412676725839708186537654693818292834890102701151952971225542246263111979492163252323161451081459842308436442992956372111138088281604660804517465589392315058255605412916467682942743472322189747096383441\n",
      "decrpy key : 117234235745347151193388691764854154527069349097273517552440241199598862500690019632880745122550337999229966248159110658585826942310557226485256801541505364316416426434069231552604408954772394525023449875220043372780948181307574744924435554158432707772769113181647103901944130262279295888581920958877268733497\n",
      "The decrpyted mesage is :  34995326944081578444654678232105591676121755881634236008797679735472795706808157331567980403934987009436087607335272588829910997633963946211528536360059040115175152722180279803595556832390755427695306521069682182176526476810968834879017292567458214695362398547076963443526908713227132975261336643171928846819\n",
      "rsa was success. goodbye, have a nice day.\n"
     ]
    }
   ],
   "source": [
    "rsarun(12131072439211271897323671531612440428472427633701410925634549312301964373042085619324197365322416866541017057361365214171711713797974299334871062829803541,12027524255478748885956220793734512128733387803682075433653899983955179850988797899869146900809131611153346817050832096022160146366346391812470987105415233)"
   ]
  }
 ],
 "metadata": {
  "kernelspec": {
   "display_name": "Python 3",
   "language": "python",
   "name": "python3"
  },
  "language_info": {
   "codemirror_mode": {
    "name": "ipython",
    "version": 3
   },
   "file_extension": ".py",
   "mimetype": "text/x-python",
   "name": "python",
   "nbconvert_exporter": "python",
   "pygments_lexer": "ipython3",
   "version": "3.6.5"
  }
 },
 "nbformat": 4,
 "nbformat_minor": 2
}
